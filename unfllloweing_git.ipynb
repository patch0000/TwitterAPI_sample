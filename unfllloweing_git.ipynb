{
  "cells": [
    {
      "cell_type": "markdown",
      "metadata": {
        "id": "view-in-github",
        "colab_type": "text"
      },
      "source": [
        "<a href=\"https://colab.research.google.com/github/patch0000/TwitterAPI_sample/blob/main/unfllloweing_git.ipynb\" target=\"_parent\"><img src=\"https://colab.research.google.com/assets/colab-badge.svg\" alt=\"Open In Colab\"/></a>"
      ]
    },
    {
      "cell_type": "markdown",
      "metadata": {
        "id": "-glO6k96Sx9b"
      },
      "source": [
        "# Twitterのフォローを外すAPI\n",
        "\n",
        "相互フォローが外れていた際などに利用する  \n",
        "https://developer.twitter.com/en/docs/twitter-api/users/follows/api-reference/delete-users-source_id-following\n",
        "\n",
        "Rate limit\t\n",
        "User rate limit: 50 requests per 15-minute window\n",
        "Max operations\tApp limit: 500 successful requests per 24-hour window"
      ]
    },
    {
      "cell_type": "code",
      "execution_count": null,
      "metadata": {
        "id": "Yk4e0_34UHcn"
      },
      "outputs": [],
      "source": [
        "#認証情報を以下に設定する\n",
        "my_bearer_token = \"xxxxx\"\n",
        "my_consumer_key = 'xxxxxx'\n",
        "my_consumer_secret = 'xxxxxx'\n",
        "my_access_token ='xxxxx'\n",
        "my_access_token_secret = 'xxxx'\n",
        "my_id = 1402247255558561793\n",
        "\n",
        "import pandas as pd"
      ]
    },
    {
      "cell_type": "code",
      "execution_count": null,
      "metadata": {
        "id": "FDsFGcPCYN_2"
      },
      "outputs": [],
      "source": [
        "#以下にフォローを外したいアカウントのIDを設定する。最大50行まで\n",
        "my_list_str = \"\"\"\\\n",
        "000000000000000000000\n",
        "0000000000000011111\"\"\"\n",
        "my_list=my_list_str.split('\\n')\n",
        "print(my_list)\n"
      ]
    },
    {
      "cell_type": "code",
      "execution_count": null,
      "metadata": {
        "id": "5BOWhAOATYCK"
      },
      "outputs": [],
      "source": [
        "#@title\n",
        "from requests_oauthlib import OAuth1Session\n",
        "import os\n",
        "import json\n",
        "\n",
        "id = my_id\n",
        "params = {\"user.fields\": \"id,name,created_at,description\"}\n",
        "\n",
        "request_token_url = \"https://api.twitter.com/oauth/request_token\"\n",
        "consumer_key = my_consumer_key\n",
        "consumer_secret = my_consumer_secret\n",
        "oauth = OAuth1Session(consumer_key, client_secret=consumer_secret)\n",
        "\n",
        "try:\n",
        "    fetch_response = oauth.fetch_request_token(request_token_url)\n",
        "except ValueError:\n",
        "    print(\n",
        "        \"There may have been an issue with the consumer_key or consumer_secret you entered.\"\n",
        "    )\n",
        "\n",
        "resource_owner_key = fetch_response.get(\"oauth_token\")\n",
        "resource_owner_secret = fetch_response.get(\"oauth_token_secret\")\n",
        "print(\"Got OAuth token: %s\" % resource_owner_key)\n",
        "\n",
        "# Get authorization\n",
        "base_authorization_url = \"https://api.twitter.com/oauth/authorize\"\n",
        "authorization_url = oauth.authorization_url(base_authorization_url)\n",
        "print(\"Please go here and authorize: %s\" % authorization_url)\n",
        "verifier = input(\"Paste the PIN here: \")\n",
        "\n",
        "# Get the access token\n",
        "access_token_url = \"https://api.twitter.com/oauth/access_token\"\n",
        "oauth = OAuth1Session(\n",
        "    consumer_key,\n",
        "    client_secret=consumer_secret,\n",
        "    resource_owner_key=resource_owner_key,\n",
        "    resource_owner_secret=resource_owner_secret,\n",
        "    verifier=verifier,\n",
        ")\n",
        "oauth_tokens = oauth.fetch_access_token(access_token_url)\n",
        "\n",
        "access_token = oauth_tokens[\"oauth_token\"]\n",
        "access_token_secret = oauth_tokens[\"oauth_token_secret\"]\n",
        "\n",
        "# Make the request\n",
        "oauth = OAuth1Session(\n",
        "    consumer_key,\n",
        "    client_secret=consumer_secret,\n",
        "    resource_owner_key=access_token,\n",
        "    resource_owner_secret=access_token_secret,\n",
        ")\n",
        "\n",
        "for target_id in my_list:\n",
        "  response = oauth.delete(\n",
        "      \"https://api.twitter.com/2/users/{}/following/{}\".format(my_id, target_id)\n",
        "  )\n",
        "  if response.status_code != 200:\n",
        "      raise Exception(\n",
        "          \"Request returned an error: {} {}\".format(\n",
        "              response.status_code, response.text)\n",
        "      )\n",
        "  #print(\"Response code: {}\".format(response.status_code))\n",
        "  json_response = response.json()\n",
        "  #print(json.dumps(json_response, indent=4, sort_keys=True))\n",
        "\n",
        "print(\"end\")\n"
      ]
    }
  ],
  "metadata": {
    "colab": {
      "collapsed_sections": [],
      "name": "unfllloweing_git.ipynb",
      "provenance": [],
      "include_colab_link": true
    },
    "kernelspec": {
      "display_name": "Python 3",
      "name": "python3"
    },
    "language_info": {
      "name": "python"
    }
  },
  "nbformat": 4,
  "nbformat_minor": 0
}